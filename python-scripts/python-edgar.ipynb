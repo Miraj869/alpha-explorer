{
 "cells": [
  {
   "cell_type": "markdown",
   "metadata": {},
   "source": [
    "# **EXPLORER FOR SEC FILINGS**\n",
    "<hr>\n",
    "\n",
    "## Inter IIT Tech Meet 10.0 (2022)\n",
    "\n",
    "![image](https://www.sec.gov/edgar/search/images/edgar-logo-2x.png)\n",
    "![image](https://interiit-tech.org/static/media/logo_1.f4d40e83.png)\n",
    "\n",
    "In this Notebook, we shall be looking into utilizing the [EDGAR](https://www.sec.gov/edgar/searchedgar/) API to explore the SEC filings of a company. We shall be using the python library python-edgar to access the API. Be careful, the API is limited to 10 requests per second or smth, idk. If a black SUV shows up out in the open, it's probably because you're doing something wrong.\n",
    "\n",
    "## Objectives\n",
    "- Scrape Data from the company's History since inception\n",
    "- Use 10-Q 10-K and 8-K filings to get the company's financial statements\n",
    "- Use Financial Statements to get the company's balance sheet, income statement, cash flow statement, and ratios\n",
    "- Use the data to get the company's current assets, liabilities, and equity\n",
    "- Generate SaaS Metrics\n",
    "- Generate a Financial Statement Analysis\n",
    "- Use the metrics with Deep Learning Systems to give Insightful Results\n",
    "\n",
    "Graciaz<br>\n",
    "Kaushik Dey\n"
   ]
  },
  {
   "cell_type": "markdown",
   "metadata": {},
   "source": [
    "## Setup and Importing Modules\n",
    "\n",
    "We will need\n",
    "- Edgar for the API\n",
    "- Pandas for data manipulation\n",
    "- Matplotlib for plotting\n",
    "- OS for file system paths"
   ]
  },
  {
   "cell_type": "code",
   "execution_count": 8,
   "metadata": {},
   "outputs": [],
   "source": [
    "import edgar\n",
    "import pandas as pd\n",
    "import matplotlib.pyplot as plt\n",
    "import os\n",
    "import numpy as np"
   ]
  },
  {
   "cell_type": "markdown",
   "metadata": {},
   "source": [
    "## Importing SaaS Companies\n",
    "### (Optional if you have the Output Files Already)\n",
    "\n",
    "- Get the name of the required companies from the databbase\n",
    "- Find CIK Number for each company\n",
    "- Put it in a table\n",
    "\n",
    "Current implementation takes anywhere between 12-20 minutes to run, so feel free to optimize the algorithm if you have time"
   ]
  },
  {
   "cell_type": "code",
   "execution_count": null,
   "metadata": {},
   "outputs": [],
   "source": [
    "cwd = os.getcwd()\n",
    "path = os.path.join(cwd, 'data','edgar-data')\n",
    "\n",
    "#Find Company Names\n",
    "company_names = pd.read_csv(\"data/company_list.csv\")\n",
    "company_names[\"CIK\"] = \"\";\n",
    "# Define cik_list\n",
    "#Its a percent-dollar seperated values, sorry for that\n",
    "all_cik = pd.read_csv(\"data/all_cik.pdsv\", sep=\"^\", lineterminator='\\n')\n",
    "\n",
    "found = False #To highlight if a company is found\n",
    "\n",
    "ciklength = len(all_cik.index) # Number of CIK Entries\n",
    "\n",
    "itr = 0\n",
    "previtr = 5\n",
    "\n",
    "for i in company_names.index:\n",
    "    found = False\n",
    "    itr = 0\n",
    "    while itr < ciklength:\n",
    "        try:\n",
    "            if company_names[\"Company\"][i] == all_cik[\"NAME\"][itr]:\n",
    "                print(\"found it! (\", i+1 , \") \" , all_cik[\"NAME\"][itr], \"at line\", itr+2 )\n",
    "                company_names[\"CIK\"][i] = all_cik[\"CIK\"][itr]\n",
    "                found = True\n",
    "                previtr = itr\n",
    "                break\n",
    "            itr += 1\n",
    "        except:\n",
    "            print(\"Error in company name: \" , company_names[\"Company\"][i] , \" and \" , all_cik[\"NAME\"][itr] , \" at cik file line \" , itr+2)\n",
    "    if not found:\n",
    "        print(\"Not found: \" , company_names[\"Company\"][i])\n",
    "        # print(\"Starting Again From: \" , itr+2, \" \", all_cik[\"NAME\"][previtr])\n",
    "\n",
    "company_names.to_csv(\"data/output.csv\", index=False)\n",
    "        "
   ]
  },
  {
   "cell_type": "markdown",
   "metadata": {},
   "source": [
    "## Importing SaaS Companies\n",
    "\n",
    "### (if you don't have the Output Files Already go to previous step)\n",
    "\n",
    "- Import data\n",
    "- Fill NaN with zeroes\n",
    "- convert to int64\n",
    "- Save to CSV(optional)"
   ]
  },
  {
   "cell_type": "code",
   "execution_count": 13,
   "metadata": {},
   "outputs": [
    {
     "data": {
      "text/plain": [
       "Company    0\n",
       "CIK        0\n",
       "dtype: int64"
      ]
     },
     "execution_count": 13,
     "metadata": {},
     "output_type": "execute_result"
    }
   ],
   "source": [
    "company_names = pd.read_csv(\"data/output.csv\")\n",
    "company_names[\"CIK\"] = company_names[\"CIK\"].fillna(0).apply(np.int64)\n",
    "# company_names.to_csv(\"data/output.csv\", index=False)\n",
    "company_names.isna().sum()"
   ]
  },
  {
   "cell_type": "markdown",
   "metadata": {},
   "source": [
    "## Downloading Filings\n",
    "\n",
    "#### Using `python-edgar` to access the API\n",
    "- Completely Selective Step\n"
   ]
  },
  {
   "cell_type": "code",
   "execution_count": null,
   "metadata": {},
   "outputs": [],
   "source": [
    "edgar.download_index(path,1996,\"Indian Institute of Technology, Bhubaneswar 20CS01043@iitbbs.ac.in\");\n",
    "print(\"Downloaded Files saved at: \", path)"
   ]
  }
 ],
 "metadata": {
  "interpreter": {
   "hash": "2be5faf79681da6f2a61fdfdd5405d65d042280f7fba6178067603e3a2925119"
  },
  "kernelspec": {
   "display_name": "Python 3.10.2 64-bit (system)",
   "language": "python",
   "name": "python3"
  },
  "language_info": {
   "codemirror_mode": {
    "name": "ipython",
    "version": 3
   },
   "file_extension": ".py",
   "mimetype": "text/x-python",
   "name": "python",
   "nbconvert_exporter": "python",
   "pygments_lexer": "ipython3",
   "version": "3.10.2"
  },
  "orig_nbformat": 4
 },
 "nbformat": 4,
 "nbformat_minor": 2
}
