{
 "cells": [
  {
   "cell_type": "markdown",
   "metadata": {},
   "source": [
    "# **EXPLORER FOR SEC FILINGS**\n",
    "<hr>\n",
    "\n",
    "## Inter IIT Tech Meet 10.0 (2022)\n",
    "\n",
    "![image](https://www.sec.gov/edgar/search/images/edgar-logo-2x.png)\n",
    "![image](https://interiit-tech.org/static/media/logo_1.f4d40e83.png)\n",
    "\n",
    "In this Notebook, we shall be looking into utilizing the [EDGAR](https://www.sec.gov/edgar/searchedgar/) API to explore the SEC filings of a company. We shall be using the python library python-edgar to access the API. Be careful, the API is limited to 10 requests per second or smth, idk. If a black SUV shows up out in the open, it's probably because you're doing something wrong.\n",
    "\n",
    "## Objectives\n",
    "- Scrape Data from the company's History since inception\n",
    "- Use 10-Q 10-K and 8-K filings to get the company's financial statements\n",
    "- Use Financial Statements to get the company's balance sheet, income statement, cash flow statement, and ratios\n",
    "- Use the data to get the company's current assets, liabilities, and equity\n",
    "- Generate SaaS Metrics\n",
    "- Generate a Financial Statement Analysis\n",
    "- Use the metrics with Deep Learning Systems to give Insightful Results\n",
    "\n",
    "Graciaz<br>\n",
    "Kaushik Dey\n"
   ]
  },
  {
   "cell_type": "markdown",
   "metadata": {},
   "source": [
    "### Setup and Importing Modules\n",
    "We will need\n",
    "- Edgar for the API\n",
    "- Pandas for data manipulation\n",
    "- Matplotlib for plotting\n",
    "- OS for file system paths"
   ]
  },
  {
   "cell_type": "code",
   "execution_count": 1,
   "metadata": {},
   "outputs": [],
   "source": [
    "import edgar\n",
    "import requests\n",
    "import pandas as pd\n",
    "import matplotlib.pyplot as plt\n",
    "import pandasgui as pdgui\n",
    "import os\n",
    "import numpy as np\n",
    "import json\n",
    "import time"
   ]
  },
  {
   "cell_type": "markdown",
   "metadata": {},
   "source": [
    "### Importing SaaS Companies\n",
    "#### (Optional if you have the Output Files Already)\n",
    "\n",
    "- Get the name of the required companies from the databbase\n",
    "- Find CIK Number for each company\n",
    "- Put it in a table\n",
    "\n",
    "Current implementation takes anywhere between 12-20 minutes to run, so feel free to optimize the algorithm if you have time"
   ]
  },
  {
   "cell_type": "code",
   "execution_count": null,
   "metadata": {},
   "outputs": [],
   "source": [
    "cwd = os.getcwd()\n",
    "path = os.path.join(cwd, 'data','edgar-data')\n",
    "\n",
    "#Find Company Names\n",
    "company_names = pd.read_csv(\"data/company_list.csv\")\n",
    "company_names[\"CIK\"] = \"\";\n",
    "# Define cik_list\n",
    "#Its a percent-dollar seperated values, sorry for that\n",
    "all_cik = pd.read_csv(\"data/all_cik.pdsv\", sep=\"^\", lineterminator='\\n')\n",
    "\n",
    "found = False #To highlight if a company is found\n",
    "\n",
    "ciklength = len(all_cik.index) # Number of CIK Entries\n",
    "\n",
    "itr = 0\n",
    "previtr = 5\n",
    "\n",
    "for i in company_names.index:\n",
    "    found = False\n",
    "    itr = 0\n",
    "    while itr < ciklength:\n",
    "        try:\n",
    "            if company_names[\"Company\"][i] == all_cik[\"NAME\"][itr]:\n",
    "                print(\"found it! (\", i+1 , \") \" , all_cik[\"NAME\"][itr], \"at line\", itr+2 )\n",
    "                company_names[\"CIK\"][i] = all_cik[\"CIK\"][itr]\n",
    "                found = True\n",
    "                previtr = itr\n",
    "                break\n",
    "            itr += 1\n",
    "        except:\n",
    "            print(\"Error in company name: \" , company_names[\"Company\"][i] , \" and \" , all_cik[\"NAME\"][itr] , \" at cik file line \" , itr+2)\n",
    "    if not found:\n",
    "        print(\"Not found: \" , company_names[\"Company\"][i])\n",
    "        # print(\"Starting Again From: \" , itr+2, \" \", all_cik[\"NAME\"][previtr])\n",
    "\n",
    "company_names.to_csv(\"data/output.csv\", index=False)\n",
    "        "
   ]
  },
  {
   "cell_type": "markdown",
   "metadata": {},
   "source": [
    "### Importing SaaS Companies\n",
    "\n",
    "#### (if you don't have the Output Files Already go to previous step)\n",
    "\n",
    "- Import data\n",
    "- Fill NaN with zeroes\n",
    "- convert to int64\n",
    "- Save to CSV(optional)"
   ]
  },
  {
   "cell_type": "code",
   "execution_count": 2,
   "metadata": {},
   "outputs": [
    {
     "name": "stderr",
     "output_type": "stream",
     "text": [
      "C:\\Users\\Kaushik Dey\\AppData\\Local\\Temp\\ipykernel_12844\\571149940.py:4: SettingWithCopyWarning: \n",
      "A value is trying to be set on a copy of a slice from a DataFrame\n",
      "\n",
      "See the caveats in the documentation: https://pandas.pydata.org/pandas-docs/stable/user_guide/indexing.html#returning-a-view-versus-a-copy\n",
      "  company_names[\"CIK\"][i] = str(company_names[\"CIK\"][i]).zfill(10)\n"
     ]
    },
    {
     "data": {
      "text/html": [
       "<div>\n",
       "<style scoped>\n",
       "    .dataframe tbody tr th:only-of-type {\n",
       "        vertical-align: middle;\n",
       "    }\n",
       "\n",
       "    .dataframe tbody tr th {\n",
       "        vertical-align: top;\n",
       "    }\n",
       "\n",
       "    .dataframe thead th {\n",
       "        text-align: right;\n",
       "    }\n",
       "</style>\n",
       "<table border=\"1\" class=\"dataframe\">\n",
       "  <thead>\n",
       "    <tr style=\"text-align: right;\">\n",
       "      <th></th>\n",
       "      <th>Company</th>\n",
       "      <th>CIK</th>\n",
       "    </tr>\n",
       "  </thead>\n",
       "  <tbody>\n",
       "    <tr>\n",
       "      <th>0</th>\n",
       "      <td>2U INC</td>\n",
       "      <td>0001459417</td>\n",
       "    </tr>\n",
       "    <tr>\n",
       "      <th>1</th>\n",
       "      <td>30DC INC</td>\n",
       "      <td>0001118974</td>\n",
       "    </tr>\n",
       "    <tr>\n",
       "      <th>2</th>\n",
       "      <td>3D PIONEER SYSTEMS INC</td>\n",
       "      <td>0001556753</td>\n",
       "    </tr>\n",
       "    <tr>\n",
       "      <th>3</th>\n",
       "      <td>8X8 INC</td>\n",
       "      <td>0001023731</td>\n",
       "    </tr>\n",
       "    <tr>\n",
       "      <th>4</th>\n",
       "      <td>A10 NETWORKS INC</td>\n",
       "      <td>0001580808</td>\n",
       "    </tr>\n",
       "    <tr>\n",
       "      <th>...</th>\n",
       "      <td>...</td>\n",
       "      <td>...</td>\n",
       "    </tr>\n",
       "    <tr>\n",
       "      <th>287</th>\n",
       "      <td>ZOOM VIDEO COMUNICATIONS INC</td>\n",
       "      <td>0001585521</td>\n",
       "    </tr>\n",
       "    <tr>\n",
       "      <th>288</th>\n",
       "      <td>ZOOMAWAY TRAVEL INC</td>\n",
       "      <td>0001541054</td>\n",
       "    </tr>\n",
       "    <tr>\n",
       "      <th>289</th>\n",
       "      <td>ZOOMINFO TECHNOLOGIES</td>\n",
       "      <td>0001794515</td>\n",
       "    </tr>\n",
       "    <tr>\n",
       "      <th>290</th>\n",
       "      <td>ZSCALER INC</td>\n",
       "      <td>0001713683</td>\n",
       "    </tr>\n",
       "    <tr>\n",
       "      <th>291</th>\n",
       "      <td>ZUORA INC</td>\n",
       "      <td>0001423774</td>\n",
       "    </tr>\n",
       "  </tbody>\n",
       "</table>\n",
       "<p>292 rows × 2 columns</p>\n",
       "</div>"
      ],
      "text/plain": [
       "                          Company         CIK\n",
       "0                          2U INC  0001459417\n",
       "1                        30DC INC  0001118974\n",
       "2          3D PIONEER SYSTEMS INC  0001556753\n",
       "3                         8X8 INC  0001023731\n",
       "4                A10 NETWORKS INC  0001580808\n",
       "..                            ...         ...\n",
       "287  ZOOM VIDEO COMUNICATIONS INC  0001585521\n",
       "288           ZOOMAWAY TRAVEL INC  0001541054\n",
       "289         ZOOMINFO TECHNOLOGIES  0001794515\n",
       "290                   ZSCALER INC  0001713683\n",
       "291                     ZUORA INC  0001423774\n",
       "\n",
       "[292 rows x 2 columns]"
      ]
     },
     "execution_count": 2,
     "metadata": {},
     "output_type": "execute_result"
    }
   ],
   "source": [
    "company_names = pd.read_csv(\"data/output.csv\")\n",
    "company_names[\"CIK\"] = company_names[\"CIK\"].fillna(0).apply(np.int64)\n",
    "for i in company_names.index:\n",
    "    company_names[\"CIK\"][i] = str(company_names[\"CIK\"][i]).zfill(10)\n",
    "# company_names.to_csv(\"data/output.csv\", index=False)\n",
    "company_names"
   ]
  },
  {
   "cell_type": "markdown",
   "metadata": {},
   "source": [
    "### Downloading Filings(Optional)\n",
    "\n",
    "#### Using `python-edgar` to access the API\n",
    "- Completely Selective Step\n"
   ]
  },
  {
   "cell_type": "code",
   "execution_count": null,
   "metadata": {},
   "outputs": [],
   "source": [
    "edgar.download_index(path,1996,\"Indian Institute of Technology, Bhubaneswar 20CS01043@iitbbs.ac.in\");\n",
    "print(\"Downloaded Files saved at: \", path)"
   ]
  },
  {
   "cell_type": "markdown",
   "metadata": {},
   "source": [
    "### Add JSON Metadata to the Companies\n",
    "- Update and add `HISTORY` Column to the table\n",
    "- Add the JSON Data files to the table\n",
    "- Add the JSON Data to the table"
   ]
  },
  {
   "cell_type": "code",
   "execution_count": 9,
   "metadata": {},
   "outputs": [
    {
     "name": "stdout",
     "output_type": "stream",
     "text": [
      "Error in company name:  FLEXSHARES IBOXX 3-YR TAR FD\n",
      "Error in company name:  FLEXSHARES IBOXX 5-YR TAR FD\n",
      "Error in company name:  ISHARES IBOXX HIGH YLD CP BD\n",
      "Error in company name:  ISHARES IBOXX INVST GR CP BD\n",
      "Error in company name:  MEDALLIANCE INC\n"
     ]
    }
   ],
   "source": [
    "company_names[\"HISTORY\"] = \"\";\n",
    "\n",
    "head = {\n",
    "    \"User-Agent\": \"Alpha-Explorer/1.0\"\n",
    "}\n",
    "\n",
    "for i in company_names.index:\n",
    "    try:\n",
    "        if company_names[\"CIK\"][i] != 0:\n",
    "            url = \"https://data.sec.gov/submissions/CIK\"+company_names[\"CIK\"][i]+\".json\" #Link to JSON file\n",
    "            response= requests.get(url, headers=head)\n",
    "            time.sleep(0.1)\n",
    "            company_names[\"HISTORY\"][i] = response.json()\n",
    "    except:\n",
    "        print(\"Error in company name: \" , company_names[\"Company\"][i])\n"
   ]
  },
  {
   "cell_type": "markdown",
   "metadata": {},
   "source": [
    "### STORE IN A FILE\n",
    "Some JSON Reformats"
   ]
  },
  {
   "cell_type": "code",
   "execution_count": 14,
   "metadata": {},
   "outputs": [],
   "source": [
    "for i in company_names.index:\n",
    "    company_names[\"HISTORY\"][i] = json.dumps(company_names[\"HISTORY\"][i])\n",
    "company_names.to_csv(\"data/company_summary.csv\", index=False)\n"
   ]
  }
 ],
 "metadata": {
  "interpreter": {
   "hash": "2be5faf79681da6f2a61fdfdd5405d65d042280f7fba6178067603e3a2925119"
  },
  "kernelspec": {
   "display_name": "Python 3.10.2 64-bit (system)",
   "language": "python",
   "name": "python3"
  },
  "language_info": {
   "codemirror_mode": {
    "name": "ipython",
    "version": 3
   },
   "file_extension": ".py",
   "mimetype": "text/x-python",
   "name": "python",
   "nbconvert_exporter": "python",
   "pygments_lexer": "ipython3",
   "version": "3.10.2"
  },
  "orig_nbformat": 4
 },
 "nbformat": 4,
 "nbformat_minor": 2
}
