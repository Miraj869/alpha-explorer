{
 "cells": [
  {
   "cell_type": "markdown",
   "metadata": {},
   "source": [
    "# **EXPLORER FOR SEC FILINGS**\n",
    "<hr>\n",
    "\n",
    "## Inter IIT Tech Meet 10.0 (2022)\n",
    "\n",
    "![image](https://www.sec.gov/edgar/search/images/edgar-logo-2x.png)\n",
    "![image](https://interiit-tech.org/static/media/logo_1.f4d40e83.png)\n",
    "\n",
    "In this Notebook, we shall be looking into utilizing the [EDGAR](https://www.sec.gov/edgar/searchedgar/) API to explore the SEC filings of a company. We shall be using the python library python-edgar to access the API. Be careful, the API is limited to 10 requests per second or smth, idk. If a black SUV shows up out in the open, it's probably because you're doing something wrong.\n",
    "\n",
    "## Objectives\n",
    "- Scrape Data from the company's History since inception\n",
    "- Use 10-Q 10-K and 8-K filings to get the company's financial statements\n",
    "- Use Financial Statements to get the company's balance sheet, income statement, cash flow statement, and ratios\n",
    "- Use the data to get the company's current assets, liabilities, and equity\n",
    "- Generate SaaS Metrics\n",
    "- Generate a Financial Statement Analysis\n",
    "- Use the metrics with Deep Learning Systems to give Insightful Results\n",
    "\n",
    "Graciaz<br>\n",
    "Kaushik Dey"
   ]
  },
  {
   "cell_type": "code",
   "execution_count": 50,
   "metadata": {},
   "outputs": [],
   "source": [
    "import requests\n",
    "import pandas as pd\n",
    "import matplotlib.pyplot as plt\n",
    "import pandasgui as pdgui\n",
    "import os\n",
    "import numpy as np\n",
    "import json\n",
    "import time\n",
    "import pyjsonviewer as pjv\n",
    "from bs4 import BeautifulSoup as bs"
   ]
  },
  {
   "cell_type": "markdown",
   "metadata": {},
   "source": [
    "### Explore the Data\n",
    "\n",
    "- Find the Data Structure\n",
    "- Figure out the Form Links\n",
    "- Find a way to store some of the data to train models"
   ]
  },
  {
   "cell_type": "code",
   "execution_count": null,
   "metadata": {},
   "outputs": [],
   "source": [
    "company_data = pd.read_csv('data/company_summary.csv')\n"
   ]
  },
  {
   "cell_type": "markdown",
   "metadata": {},
   "source": [
    "### Analysing the JSON Structure\n",
    "\n",
    "The Structure of the File Looks Something Like\n",
    "\n",
    "```json\n",
    "\"filings\": {\n",
    "    \"recent\": {\n",
    "        \"accessionNumber\": [] # List of accession numbers\n",
    "        \"filingDate\": []\n",
    "        \"reportDate\": []\n",
    "        \"acceptanceDateTime\": []\n",
    "        \"act\": []\n",
    "        \"form\": [] # Look for 10-K 8-K 10-Q here\n",
    "        \"fileNumber\": []\n",
    "        \"filmNumber\": []\n",
    "        \"items\": []\n",
    "        \"size\": []\n",
    "        \"isXBRL\": []\n",
    "        \"isInlineXBRL\": []\n",
    "        \"primaryDocument\": [] # The Document we need\n",
    "        \"primaryDocDescription\": []\n",
    "\n",
    "    }\n",
    "    files: []\n",
    "}\n",
    "```"
   ]
  },
  {
   "cell_type": "markdown",
   "metadata": {},
   "source": [
    "### Lets now Explore the data in single file"
   ]
  },
  {
   "cell_type": "code",
   "execution_count": null,
   "metadata": {},
   "outputs": [],
   "source": [
    "file = json.loads(company_data[\"HISTORY\"][0])\n",
    "\n",
    "head = {\n",
    "    \"User-Agent\": \"Alpha-Explorer/1.0\",\n",
    "    \"Connection\": \"keep-alive\"\n",
    "}\n",
    "\n",
    "sample = \"https://sec.gov/Archives/edgar/data/\" \n",
    "sample += file[\"cik\"] + \"/\"\n",
    "sample += file[\"filings\"][\"recent\"][\"accessionNumber\"][0].replace(\"-\", \"\")\n",
    "sample += \"/\" + file[\"filings\"][\"recent\"][\"primaryDocument\"][0]\n",
    "\n",
    "response= requests.get(sample, headers=head)\n",
    "\n",
    "print(response.text)"
   ]
  },
  {
   "cell_type": "markdown",
   "metadata": {},
   "source": [
    "### Lets Now see how iterating through the data works"
   ]
  },
  {
   "cell_type": "code",
   "execution_count": 30,
   "metadata": {},
   "outputs": [
    {
     "name": "stdout",
     "output_type": "stream",
     "text": [
      "10K Form Dates\n",
      "76 )  2021-02-25\n",
      "147 )  2020-02-28\n",
      "220 )  2019-02-26\n",
      "288 )  2018-02-27\n",
      "367 )  2017-02-24\n",
      "439 )  2016-03-10\n",
      "566 )  2015-02-26\n"
     ]
    }
   ],
   "source": [
    "# Now We Try Iterating Thorugh the Data\n",
    "file = json.loads(company_data[\"HISTORY\"][0])\n",
    "length = len(file[\"filings\"][\"recent\"][\"accessionNumber\"])\n",
    "file_dict = file[\"filings\"][\"recent\"]\n",
    "print(\"10K Form Dates\")\n",
    "for i in range(length):\n",
    "    if file_dict[\"form\"][i] == \"10-K\":\n",
    "        print( i,\") \",file_dict[\"filingDate\"][i])"
   ]
  },
  {
   "cell_type": "markdown",
   "metadata": {},
   "source": [
    "### Lets now try and scrape a single data for some real data\n",
    "- Get a 10-K Form\n",
    "- Get the Form's Data\n",
    "- Try scrape for relevant tables\n",
    "- Find Table to do stuff"
   ]
  },
  {
   "cell_type": "code",
   "execution_count": 59,
   "metadata": {},
   "outputs": [
    {
     "name": "stdout",
     "output_type": "stream",
     "text": [
      "Corp:  Oblong, Inc.\n",
      "32 ) Date: 2021-03-30\n",
      "Url:  https://sec.gov/Archives/edgar/data/746210/000074621021000024/glow-20201231.htm\n",
      "75 ) Date: 2020-05-15\n",
      "Url:  https://sec.gov/Archives/edgar/data/746210/000074621020000022/glow-20191231x10k.htm\n",
      "122 ) Date: 2019-03-08\n",
      "Url:  https://sec.gov/Archives/edgar/data/746210/000074621019000009/glow-20181231x10k.htm\n",
      "157 ) Date: 2018-03-07\n",
      "Url:  https://sec.gov/Archives/edgar/data/746210/000074621018000012/glow-20171231x10k.htm\n",
      "177 ) Date: 2017-03-31\n",
      "Url:  https://sec.gov/Archives/edgar/data/746210/000074621017000004/glow-20161231x10k.htm\n",
      "195 ) Date: 2016-03-17\n",
      "Url:  https://sec.gov/Archives/edgar/data/746210/000074621016000121/glow-20151231x10k.htm\n",
      "225 ) Date: 2015-03-05\n",
      "Url:  https://sec.gov/Archives/edgar/data/746210/000074621015000055/glow-20141231x10k.htm\n",
      "273 ) Date: 2014-03-06\n",
      "Url:  https://sec.gov/Archives/edgar/data/746210/000074621014000016/glow-20131231x10k.htm\n",
      "309 ) Date: 2013-04-01\n",
      "Url:  https://sec.gov/Archives/edgar/data/746210/000074621013000002/glow-20121231x10k.htm\n",
      "368 ) Date: 2012-03-08\n",
      "Url:  https://sec.gov/Archives/edgar/data/746210/000141588912000332/gp10k-dec312011.htm\n",
      "397 ) Date: 2011-03-16\n",
      "Url:  https://sec.gov/Archives/edgar/data/746210/000141588911000137/glowpoint10-kmar2011.htm\n",
      "434 ) Date: 2010-03-31\n",
      "Url:  https://sec.gov/Archives/edgar/data/746210/000141588910000061/go10k-dec312009.htm\n",
      "468 ) Date: 2009-03-31\n",
      "Url:  https://sec.gov/Archives/edgar/data/746210/000135448809000387/glow10k.htm\n",
      "581 ) Date: 2008-03-27\n",
      "Url:  https://sec.gov/Archives/edgar/data/746210/000111650208000528/glowpoint10k.htm\n",
      "673 ) Date: 2007-06-06\n",
      "Url:  https://sec.gov/Archives/edgar/data/746210/000114420407030490/v077487_10k.htm\n",
      "825 ) Date: 2005-03-31\n",
      "Url:  https://sec.gov/Archives/edgar/data/746210/000116923205001941/d63146_10-k.htm\n",
      "884 ) Date: 2004-03-30\n",
      "Url:  https://sec.gov/Archives/edgar/data/746210/000095013604000945/file001.txt\n",
      "968 ) Date: 2003-03-31\n",
      "Url:  https://sec.gov/Archives/edgar/data/746210/000112528203002649/b323948_10k.txt\n",
      "981 ) Date: 2002-04-01\n",
      "Url:  https://sec.gov/Archives/edgar/data/746210/000089155402001843/d50066_10-k.txt\n"
     ]
    }
   ],
   "source": [
    "file = json.loads(company_data[\"HISTORY\"][178]) #Oblong\n",
    "print(\"Corp: \",file[\"name\"])\n",
    "length = len(file[\"filings\"][\"recent\"][\"accessionNumber\"])\n",
    "file_dict = file[\"filings\"][\"recent\"]\n",
    "\n",
    "\n",
    "head = {\n",
    "    \"User-Agent\": \"Alpha-Explorer/1.0\",\n",
    "    \"Connection\": \"keep-alive\"\n",
    "}\n",
    "\n",
    "for i in range(length):\n",
    "    if file_dict[\"form\"][i] == \"10-K\":\n",
    "\n",
    "        #Define the URL\n",
    "        print( i,\") Date:\",file_dict[\"filingDate\"][i])\n",
    "        sample = \"https://sec.gov/Archives/edgar/data/\" \n",
    "        sample += file[\"cik\"] + \"/\"\n",
    "        sample += file[\"filings\"][\"recent\"][\"accessionNumber\"][i].replace(\"-\", \"\")\n",
    "        sample += \"/\" + file[\"filings\"][\"recent\"][\"primaryDocument\"][i]\n",
    "        print(\"Url: \",sample)\n",
    "        \n"
   ]
  }
 ],
 "metadata": {
  "interpreter": {
   "hash": "2be5faf79681da6f2a61fdfdd5405d65d042280f7fba6178067603e3a2925119"
  },
  "kernelspec": {
   "display_name": "Python 3.10.2 64-bit (system)",
   "language": "python",
   "name": "python3"
  },
  "language_info": {
   "codemirror_mode": {
    "name": "ipython",
    "version": 3
   },
   "file_extension": ".py",
   "mimetype": "text/x-python",
   "name": "python",
   "nbconvert_exporter": "python",
   "pygments_lexer": "ipython3",
   "version": "3.10.2"
  },
  "orig_nbformat": 4
 },
 "nbformat": 4,
 "nbformat_minor": 2
}
